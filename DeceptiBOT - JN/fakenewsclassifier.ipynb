{
 "cells": [
  {
   "cell_type": "markdown",
   "id": "7451dc4c",
   "metadata": {},
   "source": [
    "# Fake News Classifier Machine Learning Model"
   ]
  },
  {
   "cell_type": "markdown",
   "id": "7c43cbf8",
   "metadata": {},
   "source": [
    "With this project, we intend to classify news as real or fake using a Passive Aggressive Classifier and display this prediction using a Telegram messenger bot.\n",
    "\n",
    "This notebook contains the machine learning model. All sources can be found on this project's README file."
   ]
  },
  {
   "cell_type": "markdown",
   "id": "de7da7dc",
   "metadata": {},
   "source": [
    "## Code\n",
    "We first make all the nessesary imports:"
   ]
  },
  {
   "cell_type": "code",
   "execution_count": null,
   "id": "219b897e",
   "metadata": {},
   "outputs": [],
   "source": [
    "import numpy as np\n",
    "import pandas as pd\n",
    "import pickle\n",
    "import matplotlib.pyplot as plt\n",
    "import itertools\n",
    "from sklearn.model_selection import train_test_split\n",
    "from sklearn.feature_extraction.text import TfidfVectorizer\n",
    "from sklearn.metrics import accuracy_score, confusion_matrix, plot_confusion_matrix\n",
    "from sklearn.linear_model import PassiveAggressiveClassifier\n",
    "from sklearn.naive_bayes import GaussianNB"
   ]
  }
 ],
 "metadata": {
  "kernelspec": {
   "display_name": "Python 3 (ipykernel)",
   "language": "python",
   "name": "python3"
  },
  "language_info": {
   "codemirror_mode": {
    "name": "ipython",
    "version": 3
   },
   "file_extension": ".py",
   "mimetype": "text/x-python",
   "name": "python",
   "nbconvert_exporter": "python",
   "pygments_lexer": "ipython3",
   "version": "3.9.1"
  }
 },
 "nbformat": 4,
 "nbformat_minor": 5
}
