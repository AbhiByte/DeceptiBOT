{
 "cells": [
  {
   "cell_type": "markdown",
   "id": "fa6f580f",
   "metadata": {},
   "source": [
    "# Fake News Classifier Machine Learning Model"
   ]
  },
  {
   "cell_type": "markdown",
   "id": "23bcc5ff",
   "metadata": {},
   "source": [
    "With this project, we intend to classify news as real or fake using a Passive Aggressive Classifier and display this prediction using a Telegram messenger bot.\n",
    "\n",
    "\n",
    "This notebook contains the machine learning model. All sources can be found on this project's README file.\n"
   ]
  },
  {
   "cell_type": "markdown",
   "id": "712ad286",
   "metadata": {},
   "source": [
    "## Code\n",
    "We first make all the nessesary imports. We also download the [Fake News Data Set](\"https://drive.google.com/file/d/1er9NJTLUA3qnRuyhfzuN0XUsoIC4a-_q/view\")"
   ]
  },
  {
   "cell_type": "code",
   "execution_count": 33,
   "id": "daee4003",
   "metadata": {},
   "outputs": [],
   "source": [
    "import numpy as np\n",
    "import pandas as pd\n",
    "import itertools\n",
    "from sklearn.model_selection import train_test_split\n",
    "from sklearn.feature_extraction.text import TfidfVectorizer\n",
    "from sklearn.linear_model import PassiveAggressiveClassifier\n",
    "from sklearn.metrics import accuracy_score, confusion_matrix, plot_confusion_matrix\n",
    "import matplotlib.pyplot as plt\n",
    "import pickle"
   ]
  },
  {
   "cell_type": "markdown",
   "id": "2e0cd0e5",
   "metadata": {},
   "source": [
    "Now we read the data from the CSV file, get the shape, and display the first 5 items as reference:"
   ]
  },
  {
   "cell_type": "code",
   "execution_count": 8,
   "id": "60eece06",
   "metadata": {},
   "outputs": [
    {
     "data": {
      "text/html": [
       "<div>\n",
       "<style scoped>\n",
       "    .dataframe tbody tr th:only-of-type {\n",
       "        vertical-align: middle;\n",
       "    }\n",
       "\n",
       "    .dataframe tbody tr th {\n",
       "        vertical-align: top;\n",
       "    }\n",
       "\n",
       "    .dataframe thead th {\n",
       "        text-align: right;\n",
       "    }\n",
       "</style>\n",
       "<table border=\"1\" class=\"dataframe\">\n",
       "  <thead>\n",
       "    <tr style=\"text-align: right;\">\n",
       "      <th></th>\n",
       "      <th>Unnamed: 0</th>\n",
       "      <th>title</th>\n",
       "      <th>text</th>\n",
       "      <th>label</th>\n",
       "    </tr>\n",
       "  </thead>\n",
       "  <tbody>\n",
       "    <tr>\n",
       "      <th>0</th>\n",
       "      <td>8476</td>\n",
       "      <td>You Can Smell Hillary’s Fear</td>\n",
       "      <td>Daniel Greenfield, a Shillman Journalism Fello...</td>\n",
       "      <td>FAKE</td>\n",
       "    </tr>\n",
       "    <tr>\n",
       "      <th>1</th>\n",
       "      <td>10294</td>\n",
       "      <td>Watch The Exact Moment Paul Ryan Committed Pol...</td>\n",
       "      <td>Google Pinterest Digg Linkedin Reddit Stumbleu...</td>\n",
       "      <td>FAKE</td>\n",
       "    </tr>\n",
       "    <tr>\n",
       "      <th>2</th>\n",
       "      <td>3608</td>\n",
       "      <td>Kerry to go to Paris in gesture of sympathy</td>\n",
       "      <td>U.S. Secretary of State John F. Kerry said Mon...</td>\n",
       "      <td>REAL</td>\n",
       "    </tr>\n",
       "    <tr>\n",
       "      <th>3</th>\n",
       "      <td>10142</td>\n",
       "      <td>Bernie supporters on Twitter erupt in anger ag...</td>\n",
       "      <td>— Kaydee King (@KaydeeKing) November 9, 2016 T...</td>\n",
       "      <td>FAKE</td>\n",
       "    </tr>\n",
       "    <tr>\n",
       "      <th>4</th>\n",
       "      <td>875</td>\n",
       "      <td>The Battle of New York: Why This Primary Matters</td>\n",
       "      <td>It's primary day in New York and front-runners...</td>\n",
       "      <td>REAL</td>\n",
       "    </tr>\n",
       "  </tbody>\n",
       "</table>\n",
       "</div>"
      ],
      "text/plain": [
       "   Unnamed: 0                                              title  \\\n",
       "0        8476                       You Can Smell Hillary’s Fear   \n",
       "1       10294  Watch The Exact Moment Paul Ryan Committed Pol...   \n",
       "2        3608        Kerry to go to Paris in gesture of sympathy   \n",
       "3       10142  Bernie supporters on Twitter erupt in anger ag...   \n",
       "4         875   The Battle of New York: Why This Primary Matters   \n",
       "\n",
       "                                                text label  \n",
       "0  Daniel Greenfield, a Shillman Journalism Fello...  FAKE  \n",
       "1  Google Pinterest Digg Linkedin Reddit Stumbleu...  FAKE  \n",
       "2  U.S. Secretary of State John F. Kerry said Mon...  REAL  \n",
       "3  — Kaydee King (@KaydeeKing) November 9, 2016 T...  FAKE  \n",
       "4  It's primary day in New York and front-runners...  REAL  "
      ]
     },
     "execution_count": 8,
     "metadata": {},
     "output_type": "execute_result"
    }
   ],
   "source": [
    "df=pd.read_csv(r\"C:\\Users\\abhin\\DeceptiBOT - JN\\datafolder\\news.csv\")\n",
    "\n",
    "df.shape\n",
    "df.head()"
   ]
  },
  {
   "cell_type": "markdown",
   "id": "c8db6b86",
   "metadata": {},
   "source": [
    "Now we get the labels from the above dataset:\n"
   ]
  },
  {
   "cell_type": "code",
   "execution_count": 9,
   "id": "9b330ff2",
   "metadata": {},
   "outputs": [
    {
     "data": {
      "text/plain": [
       "0    FAKE\n",
       "1    FAKE\n",
       "2    REAL\n",
       "3    FAKE\n",
       "4    REAL\n",
       "Name: label, dtype: object"
      ]
     },
     "execution_count": 9,
     "metadata": {},
     "output_type": "execute_result"
    }
   ],
   "source": [
    "labels=df.label\n",
    "labels.head()"
   ]
  },
  {
   "cell_type": "markdown",
   "id": "fb5b8a22",
   "metadata": {},
   "source": [
    "The data must be split into training and testing sets -> Training to train the model, and testing to test the quality of the model: "
   ]
  },
  {
   "cell_type": "code",
   "execution_count": 11,
   "id": "1f7f837b",
   "metadata": {},
   "outputs": [],
   "source": [
    "x_train, x_test, y_train, y_test = train_test_split(df['text'], labels, test_size=0.2, random_state=7)"
   ]
  },
  {
   "cell_type": "markdown",
   "id": "0fb7278c",
   "metadata": {},
   "source": [
    "Now, a **TfidfVectorizer** is initialized and we filter out the most common English words:\n",
    "\n",
    "**Definition:** \"TF-IDF is an abbreviation for Term Frequency Inverse Document Frequency. This is very common algorithm to transform text into a meaningful representation of numbers which is used to fit machine algorithm for prediction\" - medium.com\n",
    "\n",
    "The exact mathematics behind this algorithm are beyond the scope of this project"
   ]
  },
  {
   "cell_type": "code",
   "execution_count": 12,
   "id": "de829f8f",
   "metadata": {},
   "outputs": [],
   "source": [
    "# Instantiate the TFIDF Vectorizer\n",
    "tfidf_vectorizer = TfidfVectorizer(stop_words='english', max_df=0.7)\n",
    "\n",
    "# Fit the data to the vectorizer\n",
    "tfidf_transform = tfidf_vectorizer.fit(x_train)\n",
    "tfidf_train = tfidf_vectorizer.fit_transform(x_train)\n",
    "tfidf_test = tfidf_vectorizer.transform(x_test)"
   ]
  },
  {
   "cell_type": "markdown",
   "id": "f73801df",
   "metadata": {},
   "source": [
    "## Passive Aggressive Classifier\n",
    "\n",
    "**Passive-Aggressive algorithms are called so because :**\n",
    "\n",
    "Passive: If the prediction is correct, keep the model and do not make any changes. i.e., the data in the example is not enough to cause any changes in the model. \n",
    "\n",
    "Aggressive: If the prediction is incorrect, make changes to the model. i.e., some change to the model may correct it.\n",
    "\n",
    "Again, the exact details and mathematics are beyond the scope of this project."
   ]
  },
  {
   "cell_type": "code",
   "execution_count": 22,
   "id": "ef724396",
   "metadata": {},
   "outputs": [
    {
     "name": "stdout",
     "output_type": "stream",
     "text": [
      "Accuracy: 93.1%\n"
     ]
    }
   ],
   "source": [
    "# Initialize the passive aggressive classifier\n",
    "pa_clf = PassiveAggressiveClassifier(max_iter=50)\n",
    "\n",
    "# Fit the model\n",
    "pa_clf.fit(tfidf_train, y_train)\n",
    "\n",
    "# Do the predictions\n",
    "pa_clf_pred_y = pa_clf.predict(tfidf_test)\n",
    "pa_clf_pred_y_score=accuracy_score(y_test,pa_clf_pred_y)\n",
    "print('Accuracy: {}'.format(round(pa_clf_pred_y_score*100, 1)) + \"%\")"
   ]
  },
  {
   "cell_type": "markdown",
   "id": "d765466e",
   "metadata": {},
   "source": [
    "**Plotting the Results**\n",
    "\n",
    "It would be nice to visualize the results of the model using a confusion matrix:\n"
   ]
  },
  {
   "cell_type": "code",
   "execution_count": 31,
   "id": "1523268d",
   "metadata": {},
   "outputs": [
    {
     "data": {
      "image/png": "[encoded data removed]",
      "text/plain": [
       "<Figure size 432x288 with 2 Axes>"
      ]
     },
     "metadata": {
      "needs_background": "light"
     },
     "output_type": "display_data"
    }
   ],
   "source": [
    "# Plotting the Confusion Matrix\n",
    "pa_disp = plot_confusion_matrix(pa_clf, tfidf_test, y_test, labels=['FAKE', 'REAL'], values_format='.3g')\n",
    "pa_dis_title = 'Confusion Matrix for Passive Aggressive Classifier'\n",
    "pa_disp.ax_.set_title(pa_dis_title)\n",
    "\n",
    "plt.show()"
   ]
  },
  {
   "cell_type": "markdown",
   "id": "92e28972",
   "metadata": {},
   "source": [
    "**Saving the Model for Future Use**\n",
    "\n",
    "Now, lets save the model so that it can be used in the Telegram bot:\n"
   ]
  },
  {
   "cell_type": "code",
   "execution_count": 34,
   "id": "b5f75138",
   "metadata": {},
   "outputs": [],
   "source": [
    "# Save the Model and TFIDF Vocabulary for later use\n",
    "pickle.dump(tfidf_vectorizer, open(\"tfidf_vector.pickle\", \"wb\"))\n",
    "pickle.dump(tfidf_transform, open(\"tfidf_vocab.pickle\", \"wb\"))\n",
    "pickle.dump(pa_clf, open('pa_clf.sav', 'wb'))"
   ]
  },
  {
   "cell_type": "markdown",
   "id": "089b468c",
   "metadata": {},
   "source": [
    "## Final Thoughts"
   ]
  },
  {
   "cell_type": "markdown",
   "id": "1f4f3842",
   "metadata": {},
   "source": [
    "We succesfully trained a model to classify news articles as 'real' or 'fake' with a ~93% accuracy. The next step is to link the model to a Telegram bot so that we can use the model on external news articles (not in the dataset)."
   ]
  }
 ],
 "metadata": {
  "kernelspec": {
   "display_name": "Python 3 (ipykernel)",
   "language": "python",
   "name": "python3"
  },
  "language_info": {
   "codemirror_mode": {
    "name": "ipython",
    "version": 3
   },
   "file_extension": ".py",
   "mimetype": "text/x-python",
   "name": "python",
   "nbconvert_exporter": "python",
   "pygments_lexer": "ipython3",
   "version": "3.9.1"
  }
 },
 "nbformat": 4,
 "nbformat_minor": 5
}
